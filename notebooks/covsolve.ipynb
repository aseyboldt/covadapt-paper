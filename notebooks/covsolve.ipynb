{
 "cells": [
  {
   "cell_type": "code",
   "execution_count": 1,
   "metadata": {},
   "outputs": [],
   "source": [
    "import numpy as np\n",
    "import scipy as sp"
   ]
  },
  {
   "cell_type": "code",
   "execution_count": 2,
   "metadata": {},
   "outputs": [],
   "source": [
    "N = 2\n",
    "\n",
    "mu = np.random.normal(size=N)\n",
    "\n",
    "# Generate a random normal 2x2 matrix\n",
    "M = np.random.normal(size=(N, N))\n",
    "# Random symmetric matrix\n",
    "C = M.T @ M\n",
    "Cinv = np.linalg.inv(C)\n",
    "\n",
    "del M\n",
    "\n",
    "assert mu.shape == (N,)\n",
    "assert C.shape == (N, N)\n",
    "assert Cinv.shape == (N, N)\n"
   ]
  },
  {
   "cell_type": "code",
   "execution_count": 3,
   "metadata": {},
   "outputs": [],
   "source": [
    "# Generate k samples\n",
    "\n",
    "k = N + 1\n",
    "xs = np.random.multivariate_normal(mu, C, size=k).T\n",
    "xs\n",
    "alphas = Cinv @ (xs - mu[:, np.newaxis])\n",
    "alphas\n",
    "\n",
    "assert xs.shape == (N, k)\n",
    "assert alphas.shape == (N, k)"
   ]
  },
  {
   "cell_type": "code",
   "execution_count": 4,
   "metadata": {},
   "outputs": [],
   "source": [
    "X = xs - xs.mean(axis=1)[:, np.newaxis]\n",
    "S = alphas - alphas.mean(axis=1)[:, np.newaxis]\n"
   ]
  },
  {
   "cell_type": "code",
   "execution_count": 5,
   "metadata": {},
   "outputs": [],
   "source": [
    "covx = X @ X.T\n",
    "covalpha = S @ S.T\n",
    "\n",
    "assert covx.shape == (N, N)\n",
    "assert covalpha.shape == (N, N)\n"
   ]
  },
  {
   "cell_type": "code",
   "execution_count": 6,
   "metadata": {},
   "outputs": [],
   "source": [
    "assert np.allclose(Cinv @ X @ (X.T) @ Cinv, S @ S.T)\n"
   ]
  },
  {
   "cell_type": "code",
   "execution_count": 7,
   "metadata": {},
   "outputs": [
    {
     "data": {
      "text/plain": [
       "array([[2.22532263, 0.08962829],\n",
       "       [0.08962829, 0.00361082]])"
      ]
     },
     "execution_count": 7,
     "metadata": {},
     "output_type": "execute_result"
    }
   ],
   "source": [
    "sp.linalg.expm(sp.linalg.logm(covx)/2 - sp.linalg.logm(covalpha)/2)\n"
   ]
  },
  {
   "cell_type": "code",
   "execution_count": 8,
   "metadata": {},
   "outputs": [
    {
     "data": {
      "text/plain": [
       "array([[1.84611018, 0.0739589 ],\n",
       "       [0.0739589 , 0.00296403]])"
      ]
     },
     "execution_count": 8,
     "metadata": {},
     "output_type": "execute_result"
    }
   ],
   "source": [
    "C"
   ]
  },
  {
   "cell_type": "code",
   "execution_count": 9,
   "metadata": {},
   "outputs": [],
   "source": [
    "sqrt_covalpha = sp.linalg.sqrtm(covalpha)\n",
    "isqrt_covalpha = sp.linalg.inv(sqrt_covalpha)\n",
    "\n",
    "twisted_sqrt = sp.linalg.sqrtm(sqrt_covalpha @ covx @ sqrt_covalpha)\n",
    "C2 = isqrt_covalpha @ twisted_sqrt @ isqrt_covalpha\n",
    "\n",
    "assert np.allclose(C2, C)\n"
   ]
  },
  {
   "cell_type": "code",
   "execution_count": null,
   "metadata": {},
   "outputs": [],
   "source": []
  }
 ],
 "metadata": {
  "kernelspec": {
   "display_name": "Python 3",
   "language": "python",
   "name": "python3"
  },
  "language_info": {
   "codemirror_mode": {
    "name": "ipython",
    "version": 3
   },
   "file_extension": ".py",
   "mimetype": "text/x-python",
   "name": "python",
   "nbconvert_exporter": "python",
   "pygments_lexer": "ipython3",
   "version": "3.12.7"
  }
 },
 "nbformat": 4,
 "nbformat_minor": 2
}
